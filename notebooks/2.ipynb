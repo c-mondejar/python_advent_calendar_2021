{
 "cells": [
  {
   "cell_type": "markdown",
   "id": "458e6fd2",
   "metadata": {},
   "source": [
    "### Part 1"
   ]
  },
  {
   "cell_type": "code",
   "execution_count": 1,
   "id": "0315c174",
   "metadata": {},
   "outputs": [],
   "source": [
    "import pandas as pd"
   ]
  },
  {
   "cell_type": "code",
   "execution_count": 2,
   "id": "2fd83758",
   "metadata": {},
   "outputs": [],
   "source": [
    "inputs_df = pd.read_csv('../inputs/2.txt', header=None, names=['order', 'times'], sep=' ')"
   ]
  },
  {
   "cell_type": "code",
   "execution_count": 3,
   "id": "cf60a02e",
   "metadata": {},
   "outputs": [
    {
     "data": {
      "text/html": [
       "<div>\n",
       "<style scoped>\n",
       "    .dataframe tbody tr th:only-of-type {\n",
       "        vertical-align: middle;\n",
       "    }\n",
       "\n",
       "    .dataframe tbody tr th {\n",
       "        vertical-align: top;\n",
       "    }\n",
       "\n",
       "    .dataframe thead th {\n",
       "        text-align: right;\n",
       "    }\n",
       "</style>\n",
       "<table border=\"1\" class=\"dataframe\">\n",
       "  <thead>\n",
       "    <tr style=\"text-align: right;\">\n",
       "      <th></th>\n",
       "      <th>order</th>\n",
       "      <th>times</th>\n",
       "    </tr>\n",
       "  </thead>\n",
       "  <tbody>\n",
       "    <tr>\n",
       "      <th>0</th>\n",
       "      <td>forward</td>\n",
       "      <td>9</td>\n",
       "    </tr>\n",
       "    <tr>\n",
       "      <th>1</th>\n",
       "      <td>down</td>\n",
       "      <td>8</td>\n",
       "    </tr>\n",
       "    <tr>\n",
       "      <th>2</th>\n",
       "      <td>down</td>\n",
       "      <td>2</td>\n",
       "    </tr>\n",
       "    <tr>\n",
       "      <th>3</th>\n",
       "      <td>down</td>\n",
       "      <td>4</td>\n",
       "    </tr>\n",
       "    <tr>\n",
       "      <th>4</th>\n",
       "      <td>up</td>\n",
       "      <td>8</td>\n",
       "    </tr>\n",
       "  </tbody>\n",
       "</table>\n",
       "</div>"
      ],
      "text/plain": [
       "     order  times\n",
       "0  forward      9\n",
       "1     down      8\n",
       "2     down      2\n",
       "3     down      4\n",
       "4       up      8"
      ]
     },
     "execution_count": 3,
     "metadata": {},
     "output_type": "execute_result"
    }
   ],
   "source": [
    "inputs_df.head()"
   ]
  },
  {
   "cell_type": "code",
   "execution_count": 4,
   "id": "a386034f",
   "metadata": {},
   "outputs": [
    {
     "data": {
      "text/plain": [
       "(1000, 2)"
      ]
     },
     "execution_count": 4,
     "metadata": {},
     "output_type": "execute_result"
    }
   ],
   "source": [
    "inputs_df.shape"
   ]
  },
  {
   "cell_type": "code",
   "execution_count": 5,
   "id": "e4323479",
   "metadata": {},
   "outputs": [],
   "source": [
    "forward_times = inputs_df[inputs_df.order=='forward'].times.sum()\n",
    "down_times = inputs_df[inputs_df.order=='down'].times.sum()\n",
    "up_times = inputs_df[inputs_df.order=='up'].times.sum()"
   ]
  },
  {
   "cell_type": "code",
   "execution_count": 6,
   "id": "adf26108",
   "metadata": {},
   "outputs": [
    {
     "data": {
      "text/plain": [
       "955"
      ]
     },
     "execution_count": 6,
     "metadata": {},
     "output_type": "execute_result"
    }
   ],
   "source": [
    "up_times"
   ]
  },
  {
   "cell_type": "code",
   "execution_count": 7,
   "id": "ee03039d",
   "metadata": {},
   "outputs": [
    {
     "data": {
      "text/plain": [
       "2018"
      ]
     },
     "execution_count": 7,
     "metadata": {},
     "output_type": "execute_result"
    }
   ],
   "source": [
    "down_times"
   ]
  },
  {
   "cell_type": "code",
   "execution_count": 8,
   "id": "e8939221",
   "metadata": {},
   "outputs": [
    {
     "data": {
      "text/plain": [
       "1968"
      ]
     },
     "execution_count": 8,
     "metadata": {},
     "output_type": "execute_result"
    }
   ],
   "source": [
    "forward_times"
   ]
  },
  {
   "cell_type": "code",
   "execution_count": 9,
   "id": "ad6c1bca",
   "metadata": {},
   "outputs": [
    {
     "data": {
      "text/plain": [
       "2091984"
      ]
     },
     "execution_count": 9,
     "metadata": {},
     "output_type": "execute_result"
    }
   ],
   "source": [
    "forward_times*(down_times-up_times)"
   ]
  },
  {
   "cell_type": "markdown",
   "id": "dcd32bcb",
   "metadata": {},
   "source": [
    "### Part 2"
   ]
  },
  {
   "cell_type": "code",
   "execution_count": 10,
   "id": "1931ff0f",
   "metadata": {},
   "outputs": [],
   "source": [
    "aim = 0\n",
    "horizontal = 0\n",
    "depth= 0\n",
    "for index, values in inputs_df.iterrows():\n",
    "    if values['order']== 'forward':\n",
    "        horizontal +=values['times']\n",
    "        depth += aim * values['times']\n",
    "    elif values['order']== 'up':\n",
    "        aim -= values['times']\n",
    "    elif values['order']== 'down':\n",
    "        aim += values['times']"
   ]
  },
  {
   "cell_type": "code",
   "execution_count": 11,
   "id": "0334c1f0",
   "metadata": {
    "scrolled": true
   },
   "outputs": [
    {
     "data": {
      "text/plain": [
       "1968"
      ]
     },
     "execution_count": 11,
     "metadata": {},
     "output_type": "execute_result"
    }
   ],
   "source": [
    "horizontal"
   ]
  },
  {
   "cell_type": "code",
   "execution_count": 12,
   "id": "4911772f",
   "metadata": {},
   "outputs": [
    {
     "data": {
      "text/plain": [
       "1060092"
      ]
     },
     "execution_count": 12,
     "metadata": {},
     "output_type": "execute_result"
    }
   ],
   "source": [
    "depth"
   ]
  },
  {
   "cell_type": "code",
   "execution_count": 13,
   "id": "cd1195f4",
   "metadata": {},
   "outputs": [
    {
     "data": {
      "text/plain": [
       "2086261056"
      ]
     },
     "execution_count": 13,
     "metadata": {},
     "output_type": "execute_result"
    }
   ],
   "source": [
    "depth*horizontal"
   ]
  },
  {
   "cell_type": "code",
   "execution_count": null,
   "id": "b45a24ea",
   "metadata": {},
   "outputs": [],
   "source": []
  }
 ],
 "metadata": {
  "kernelspec": {
   "display_name": "Python 3",
   "language": "python",
   "name": "python3"
  },
  "language_info": {
   "codemirror_mode": {
    "name": "ipython",
    "version": 3
   },
   "file_extension": ".py",
   "mimetype": "text/x-python",
   "name": "python",
   "nbconvert_exporter": "python",
   "pygments_lexer": "ipython3",
   "version": "3.7.11"
  }
 },
 "nbformat": 4,
 "nbformat_minor": 5
}
